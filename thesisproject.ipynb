version https://git-lfs.github.com/spec/v1
oid sha256:c5749c281c094de5f49d038470d6f4d549947e3160d02d5dcde90d3918db7725
size 91013
